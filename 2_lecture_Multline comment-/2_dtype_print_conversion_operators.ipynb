{
 "cells": [
  {
   "cell_type": "markdown",
   "id": "c00b1c87",
   "metadata": {},
   "source": [
    "### Data_types"
   ]
  },
  {
   "cell_type": "code",
   "execution_count": 2,
   "id": "3198771d",
   "metadata": {},
   "outputs": [
    {
     "name": "stdout",
     "output_type": "stream",
     "text": [
      "25\n"
     ]
    }
   ],
   "source": [
    "print(a)"
   ]
  },
  {
   "cell_type": "code",
   "execution_count": 1,
   "id": "0d62e252",
   "metadata": {},
   "outputs": [
    {
     "name": "stdout",
     "output_type": "stream",
     "text": [
      "25\n"
     ]
    }
   ],
   "source": [
    "a=25\n",
    "print(a)\n"
   ]
  },
  {
   "cell_type": "code",
   "execution_count": 1,
   "id": "a17edb12",
   "metadata": {},
   "outputs": [],
   "source": [
    "a = 25\n"
   ]
  },
  {
   "cell_type": "code",
   "execution_count": 3,
   "id": "becaabed",
   "metadata": {},
   "outputs": [
    {
     "ename": "NameError",
     "evalue": "name 'c' is not defined",
     "output_type": "error",
     "traceback": [
      "\u001b[1;31m---------------------------------------------------------------------------\u001b[0m",
      "\u001b[1;31mNameError\u001b[0m                                 Traceback (most recent call last)",
      "Cell \u001b[1;32mIn[3], line 1\u001b[0m\n\u001b[1;32m----> 1\u001b[0m \u001b[38;5;28mprint\u001b[39m(\u001b[43mc\u001b[49m)\n",
      "\u001b[1;31mNameError\u001b[0m: name 'c' is not defined"
     ]
    }
   ],
   "source": [
    "print(c)"
   ]
  },
  {
   "cell_type": "code",
   "execution_count": 5,
   "id": "ba7df2a6",
   "metadata": {},
   "outputs": [
    {
     "name": "stdout",
     "output_type": "stream",
     "text": [
      "25\n"
     ]
    }
   ],
   "source": [
    "print(a)"
   ]
  },
  {
   "cell_type": "code",
   "execution_count": 6,
   "id": "b94e7190",
   "metadata": {},
   "outputs": [],
   "source": [
    "a = 100"
   ]
  },
  {
   "cell_type": "code",
   "execution_count": 7,
   "id": "999fc57e",
   "metadata": {},
   "outputs": [
    {
     "name": "stdout",
     "output_type": "stream",
     "text": [
      "100\n"
     ]
    }
   ],
   "source": [
    "print(a)"
   ]
  },
  {
   "cell_type": "code",
   "execution_count": 8,
   "id": "09c8e4c4",
   "metadata": {},
   "outputs": [
    {
     "name": "stdout",
     "output_type": "stream",
     "text": [
      "150\n",
      "<class 'int'>\n"
     ]
    }
   ],
   "source": [
    "# integer:\n",
    "a = 150\n",
    "print(a)\n",
    "print(type(a))"
   ]
  },
  {
   "cell_type": "code",
   "execution_count": 9,
   "id": "92dc0997",
   "metadata": {},
   "outputs": [
    {
     "name": "stdout",
     "output_type": "stream",
     "text": [
      "150.88\n",
      "<class 'float'>\n"
     ]
    }
   ],
   "source": [
    "# float:\n",
    "a = 150.88\n",
    "print(a)\n",
    "print(type(a))"
   ]
  },
  {
   "cell_type": "code",
   "execution_count": 10,
   "id": "3a8f9660",
   "metadata": {},
   "outputs": [
    {
     "name": "stdout",
     "output_type": "stream",
     "text": [
      "datascience\n",
      "<class 'str'>\n"
     ]
    }
   ],
   "source": [
    "# string:\n",
    "a = 'datascience'\n",
    "print(a)\n",
    "print(type(a))"
   ]
  },
  {
   "cell_type": "code",
   "execution_count": 4,
   "id": "8dd4ced1",
   "metadata": {},
   "outputs": [
    {
     "name": "stdout",
     "output_type": "stream",
     "text": [
      "string\n",
      "<class 'str'>\n"
     ]
    }
   ],
   "source": [
    "a=\"string\"\n",
    "print(a)\n",
    "print(type(a))"
   ]
  },
  {
   "cell_type": "markdown",
   "id": "d8d2628c",
   "metadata": {},
   "source": [
    "### Variables_Rules"
   ]
  },
  {
   "cell_type": "code",
   "execution_count": 12,
   "id": "418701cd",
   "metadata": {},
   "outputs": [
    {
     "ename": "SyntaxError",
     "evalue": "invalid syntax (2723875671.py, line 1)",
     "output_type": "error",
     "traceback": [
      "\u001b[1;36m  Cell \u001b[1;32mIn[12], line 1\u001b[1;36m\u001b[0m\n\u001b[1;33m    12a = 150  # Variable shoud not start with a number:\u001b[0m\n\u001b[1;37m      ^\u001b[0m\n\u001b[1;31mSyntaxError\u001b[0m\u001b[1;31m:\u001b[0m invalid syntax\n"
     ]
    }
   ],
   "source": [
    "12a = 150  # Variable shoud not start with a number:\n"
   ]
  },
  {
   "cell_type": "code",
   "execution_count": 13,
   "id": "a6c08adb",
   "metadata": {},
   "outputs": [
    {
     "name": "stdout",
     "output_type": "stream",
     "text": [
      "50\n"
     ]
    }
   ],
   "source": [
    "# if you want to start a variable with number means use underscore _\n",
    "\n",
    "_12a = 50\n",
    "print(_12a)"
   ]
  },
  {
   "cell_type": "code",
   "execution_count": 14,
   "id": "a7dc2c64",
   "metadata": {},
   "outputs": [
    {
     "ename": "SyntaxError",
     "evalue": "invalid syntax (1718308130.py, line 3)",
     "output_type": "error",
     "traceback": [
      "\u001b[1;36m  Cell \u001b[1;32mIn[14], line 3\u001b[1;36m\u001b[0m\n\u001b[1;33m    sharuk khan age = 60\u001b[0m\n\u001b[1;37m           ^\u001b[0m\n\u001b[1;31mSyntaxError\u001b[0m\u001b[1;31m:\u001b[0m invalid syntax\n"
     ]
    }
   ],
   "source": [
    "# No space in variables: if you want connect them using underscore _\n",
    "\n",
    "sharuk khan age = 60"
   ]
  },
  {
   "cell_type": "code",
   "execution_count": 15,
   "id": "970082a5",
   "metadata": {},
   "outputs": [
    {
     "name": "stdout",
     "output_type": "stream",
     "text": [
      "60\n"
     ]
    }
   ],
   "source": [
    "sharuk_khan_age = 60  # connect using underscore\n",
    "print(sharuk_khan_age)"
   ]
  },
  {
   "cell_type": "code",
   "execution_count": 16,
   "id": "67882a37",
   "metadata": {},
   "outputs": [
    {
     "ename": "NameError",
     "evalue": "name 'A' is not defined",
     "output_type": "error",
     "traceback": [
      "\u001b[1;31m---------------------------------------------------------------------------\u001b[0m",
      "\u001b[1;31mNameError\u001b[0m                                 Traceback (most recent call last)",
      "Cell \u001b[1;32mIn[16], line 2\u001b[0m\n\u001b[0;32m      1\u001b[0m a \u001b[38;5;241m=\u001b[39m \u001b[38;5;241m100\u001b[39m\n\u001b[1;32m----> 2\u001b[0m \u001b[38;5;28mprint\u001b[39m(\u001b[43mA\u001b[49m)\n",
      "\u001b[1;31mNameError\u001b[0m: name 'A' is not defined"
     ]
    }
   ],
   "source": [
    "a = 100\n",
    "print(A)"
   ]
  },
  {
   "cell_type": "code",
   "execution_count": 17,
   "id": "01909b17",
   "metadata": {},
   "outputs": [
    {
     "ename": "NameError",
     "evalue": "name 'A' is not defined",
     "output_type": "error",
     "traceback": [
      "\u001b[1;31m---------------------------------------------------------------------------\u001b[0m",
      "\u001b[1;31mNameError\u001b[0m                                 Traceback (most recent call last)",
      "Cell \u001b[1;32mIn[17], line 5\u001b[0m\n\u001b[0;32m      1\u001b[0m \u001b[38;5;66;03m# Case sensitive: [Python is a case sensitive language]*****\u001b[39;00m\n\u001b[0;32m      2\u001b[0m \u001b[38;5;66;03m# variable is a case sensitive:\u001b[39;00m\n\u001b[0;32m      4\u001b[0m a \u001b[38;5;241m=\u001b[39m \u001b[38;5;241m100\u001b[39m\n\u001b[1;32m----> 5\u001b[0m \u001b[38;5;28mprint\u001b[39m(\u001b[43mA\u001b[49m)\n",
      "\u001b[1;31mNameError\u001b[0m: name 'A' is not defined"
     ]
    }
   ],
   "source": [
    "# Case sensitive: [Python is a case sensitive language]*****\n",
    "# variable is a case sensitive:\n",
    "\n",
    "a = 100\n",
    "print(A)"
   ]
  },
  {
   "cell_type": "code",
   "execution_count": 21,
   "id": "54e785c6",
   "metadata": {},
   "outputs": [
    {
     "ename": "SyntaxError",
     "evalue": "invalid syntax (1286428097.py, line 2)",
     "output_type": "error",
     "traceback": [
      "\u001b[1;36m  Cell \u001b[1;32mIn[21], line 2\u001b[1;36m\u001b[0m\n\u001b[1;33m    { = 100\u001b[0m\n\u001b[1;37m      ^\u001b[0m\n\u001b[1;31mSyntaxError\u001b[0m\u001b[1;31m:\u001b[0m invalid syntax\n"
     ]
    }
   ],
   "source": [
    "# Dont use this [!\"#$%&\\'()*+,-./:;<=>?@[\\\\]^_`{|}~] symbols as a variable:\n",
    "\n",
    "{ = 100"
   ]
  },
  {
   "cell_type": "code",
   "execution_count": 22,
   "id": "7dff360b",
   "metadata": {},
   "outputs": [],
   "source": [
    "a , b , c = 10 , 20.5 , 'datascience'"
   ]
  },
  {
   "cell_type": "code",
   "execution_count": 23,
   "id": "6441b72a",
   "metadata": {},
   "outputs": [
    {
     "name": "stdout",
     "output_type": "stream",
     "text": [
      "10\n"
     ]
    }
   ],
   "source": [
    "print(a)"
   ]
  },
  {
   "cell_type": "code",
   "execution_count": 24,
   "id": "7a4c395b",
   "metadata": {},
   "outputs": [
    {
     "name": "stdout",
     "output_type": "stream",
     "text": [
      "20.5\n"
     ]
    }
   ],
   "source": [
    "print(b)"
   ]
  },
  {
   "cell_type": "code",
   "execution_count": 25,
   "id": "8267f26b",
   "metadata": {},
   "outputs": [
    {
     "name": "stdout",
     "output_type": "stream",
     "text": [
      "datascience\n"
     ]
    }
   ],
   "source": [
    "print(c)"
   ]
  },
  {
   "cell_type": "code",
   "execution_count": 26,
   "id": "822de768",
   "metadata": {},
   "outputs": [
    {
     "name": "stdout",
     "output_type": "stream",
     "text": [
      "10 20.5 datascience\n"
     ]
    }
   ],
   "source": [
    "print(a , b , c)"
   ]
  },
  {
   "cell_type": "code",
   "execution_count": 6,
   "id": "d6e53e85",
   "metadata": {},
   "outputs": [
    {
     "name": "stdout",
     "output_type": "stream",
     "text": [
      "raju\n",
      "10\n",
      "23.2\n",
      "raju 10 23.2\n"
     ]
    }
   ],
   "source": [
    "a, b, c = \"raju\", 10, 23.2\n",
    "print(a)\n",
    "print(b)\n",
    "print(c)\n",
    "print(a, b, c)"
   ]
  },
  {
   "cell_type": "code",
   "execution_count": 27,
   "id": "a13cd5eb",
   "metadata": {},
   "outputs": [
    {
     "ename": "NameError",
     "evalue": "name 'abc' is not defined",
     "output_type": "error",
     "traceback": [
      "\u001b[1;31m---------------------------------------------------------------------------\u001b[0m",
      "\u001b[1;31mNameError\u001b[0m                                 Traceback (most recent call last)",
      "Cell \u001b[1;32mIn[27], line 1\u001b[0m\n\u001b[1;32m----> 1\u001b[0m \u001b[38;5;28mprint\u001b[39m(\u001b[43mabc\u001b[49m)\n",
      "\u001b[1;31mNameError\u001b[0m: name 'abc' is not defined"
     ]
    }
   ],
   "source": [
    "print(abc)"
   ]
  },
  {
   "cell_type": "code",
   "execution_count": 28,
   "id": "adb4f409",
   "metadata": {},
   "outputs": [
    {
     "name": "stdout",
     "output_type": "stream",
     "text": [
      "30\n"
     ]
    }
   ],
   "source": [
    "a = 10\n",
    "b = 20\n",
    "print(a + b)"
   ]
  },
  {
   "cell_type": "code",
   "execution_count": 29,
   "id": "6c3cc3b9",
   "metadata": {},
   "outputs": [
    {
     "name": "stdout",
     "output_type": "stream",
     "text": [
      "10\n",
      "10\n"
     ]
    }
   ],
   "source": [
    "a = 10\n",
    "b = a\n",
    "print(b)\n",
    "print(a)"
   ]
  },
  {
   "cell_type": "markdown",
   "id": "57bc5a58",
   "metadata": {},
   "source": [
    "### Deep Dive into Print condition:"
   ]
  },
  {
   "cell_type": "code",
   "execution_count": 30,
   "id": "2ee8a310",
   "metadata": {},
   "outputs": [
    {
     "name": "stdout",
     "output_type": "stream",
     "text": [
      "Datascience\n"
     ]
    }
   ],
   "source": [
    "print('Datascience')"
   ]
  },
  {
   "cell_type": "code",
   "execution_count": 31,
   "id": "aeb9e00a",
   "metadata": {},
   "outputs": [
    {
     "name": "stdout",
     "output_type": "stream",
     "text": [
      "kamal\n"
     ]
    }
   ],
   "source": [
    "print('kamal')"
   ]
  },
  {
   "cell_type": "code",
   "execution_count": 35,
   "id": "843a7e7c",
   "metadata": {},
   "outputs": [
    {
     "name": "stdout",
     "output_type": "stream",
     "text": [
      "datascience is very popular in 21st centuary:\n"
     ]
    }
   ],
   "source": [
    "# we can use ' ' , \" \" , \"\"\" \"\"\" in python version 3:\n",
    "print('datascience is very popular in 21st centuary:')"
   ]
  },
  {
   "cell_type": "code",
   "execution_count": 36,
   "id": "98fd1f68",
   "metadata": {},
   "outputs": [
    {
     "name": "stdout",
     "output_type": "stream",
     "text": [
      "datascience is very popular in 21st centuary:\n"
     ]
    }
   ],
   "source": [
    "print(\"datascience is very popular in 21st centuary:\")"
   ]
  },
  {
   "cell_type": "code",
   "execution_count": 37,
   "id": "e5fe4975",
   "metadata": {},
   "outputs": [
    {
     "name": "stdout",
     "output_type": "stream",
     "text": [
      "datascience is very popular in 21st centuary:\n"
     ]
    }
   ],
   "source": [
    "print(\"\"\"datascience is very popular in 21st centuary:\"\"\")"
   ]
  },
  {
   "cell_type": "code",
   "execution_count": 41,
   "id": "2d10149c",
   "metadata": {},
   "outputs": [
    {
     "name": "stdout",
     "output_type": "stream",
     "text": [
      "My age is = 26\n"
     ]
    }
   ],
   "source": [
    "# connect variable with print condition:\n",
    "\n",
    "\n",
    "# comma : will connect text inside code ' ' and varibales :\n",
    "# comma is going to provide 1 tab space for you:\n",
    "\n",
    "age = 26\n",
    "print('My age is =',age)"
   ]
  },
  {
   "cell_type": "code",
   "execution_count": 7,
   "id": "703bf073",
   "metadata": {},
   "outputs": [
    {
     "name": "stdout",
     "output_type": "stream",
     "text": [
      "My age is = 25\n"
     ]
    }
   ],
   "source": [
    "age = 25\n",
    "print(\"My age is =\", age)"
   ]
  },
  {
   "cell_type": "code",
   "execution_count": 46,
   "id": "128012d8",
   "metadata": {},
   "outputs": [
    {
     "name": "stdout",
     "output_type": "stream",
     "text": [
      "I am learning datascience from topmentor in online\n"
     ]
    }
   ],
   "source": [
    "course = 'datascience'\n",
    "place = 'topmentor'\n",
    "access = 'online'\n",
    "\n",
    "# output = I am learning datascience from topmentor in online\n",
    "print('I am learning',course,'from',place,'in',access)"
   ]
  },
  {
   "cell_type": "code",
   "execution_count": null,
   "id": "6c213571",
   "metadata": {},
   "outputs": [],
   "source": [
    " # can only concatenate str (not \"int\") to str : [adding]"
   ]
  },
  {
   "cell_type": "markdown",
   "id": "8615ce66",
   "metadata": {},
   "source": [
    "### Data_type conversion"
   ]
  },
  {
   "cell_type": "code",
   "execution_count": 55,
   "id": "291758da",
   "metadata": {},
   "outputs": [
    {
     "name": "stdout",
     "output_type": "stream",
     "text": [
      "Integer value =  12\n",
      "<class 'int'>\n",
      "12.0\n",
      "<class 'float'>\n",
      "Float value =  12.0\n"
     ]
    }
   ],
   "source": [
    "# convert int to float \n",
    "a = 12\n",
    "print('Integer value = ',a)\n",
    "print(type(a))\n",
    "b = float(a)  # value 12 converting to float and saving in variable b know b will be 12.0\n",
    "print(b)\n",
    "print(type(b))\n",
    "print('Float value = ',b)"
   ]
  },
  {
   "cell_type": "code",
   "execution_count": 59,
   "id": "3dd8c906",
   "metadata": {},
   "outputs": [
    {
     "name": "stdout",
     "output_type": "stream",
     "text": [
      "25.8\n",
      "<class 'float'>\n",
      "25\n",
      "<class 'int'>\n"
     ]
    }
   ],
   "source": [
    "# Float to integer:\n",
    "a = 25.8\n",
    "print(a)\n",
    "print(type(a))\n",
    "b = int(a) # value 25.8 converting to int and saving in variable b know b will be 25\n",
    "print(b)\n",
    "print(type(b))"
   ]
  },
  {
   "cell_type": "code",
   "execution_count": 64,
   "id": "2191ecbd",
   "metadata": {},
   "outputs": [
    {
     "name": "stdout",
     "output_type": "stream",
     "text": [
      "20.5\n",
      "<class 'str'>\n"
     ]
    }
   ],
   "source": [
    "# int and float to string:\n",
    "a = 20.5\n",
    "b = str(a)\n",
    "print(b)\n",
    "print(type(b))"
   ]
  },
  {
   "cell_type": "code",
   "execution_count": 66,
   "id": "874c3819",
   "metadata": {},
   "outputs": [
    {
     "name": "stdout",
     "output_type": "stream",
     "text": [
      "<class 'str'>\n",
      "<class 'int'>\n",
      "20\n"
     ]
    }
   ],
   "source": [
    "# string to int and float :\n",
    "# string can be converted to int when there is only numbers not text\n",
    "\n",
    "a = '20'\n",
    "print(type(a))\n",
    "b = int(a)\n",
    "print(type(b))\n",
    "print(b)"
   ]
  },
  {
   "cell_type": "code",
   "execution_count": 67,
   "id": "aca8359b",
   "metadata": {},
   "outputs": [
    {
     "name": "stdout",
     "output_type": "stream",
     "text": [
      "<class 'str'>\n"
     ]
    },
    {
     "ename": "ValueError",
     "evalue": "invalid literal for int() with base 10: '20ab'",
     "output_type": "error",
     "traceback": [
      "\u001b[1;31m---------------------------------------------------------------------------\u001b[0m",
      "\u001b[1;31mValueError\u001b[0m                                Traceback (most recent call last)",
      "Cell \u001b[1;32mIn[67], line 3\u001b[0m\n\u001b[0;32m      1\u001b[0m a \u001b[38;5;241m=\u001b[39m \u001b[38;5;124m'\u001b[39m\u001b[38;5;124m20ab\u001b[39m\u001b[38;5;124m'\u001b[39m\n\u001b[0;32m      2\u001b[0m \u001b[38;5;28mprint\u001b[39m(\u001b[38;5;28mtype\u001b[39m(a))\n\u001b[1;32m----> 3\u001b[0m b \u001b[38;5;241m=\u001b[39m \u001b[38;5;28;43mint\u001b[39;49m\u001b[43m(\u001b[49m\u001b[43ma\u001b[49m\u001b[43m)\u001b[49m\n\u001b[0;32m      4\u001b[0m \u001b[38;5;28mprint\u001b[39m(\u001b[38;5;28mtype\u001b[39m(b))\n\u001b[0;32m      5\u001b[0m \u001b[38;5;28mprint\u001b[39m(b)\n",
      "\u001b[1;31mValueError\u001b[0m: invalid literal for int() with base 10: '20ab'"
     ]
    }
   ],
   "source": [
    "a = '20ab'\n",
    "print(type(a))\n",
    "b = int(a)\n",
    "print(type(b))\n",
    "print(b)"
   ]
  },
  {
   "cell_type": "code",
   "execution_count": 68,
   "id": "cbb6665f",
   "metadata": {},
   "outputs": [
    {
     "name": "stdout",
     "output_type": "stream",
     "text": [
      "<class 'str'>\n",
      "<class 'float'>\n",
      "20.5\n"
     ]
    }
   ],
   "source": [
    "a = '20.5'\n",
    "print(type(a))\n",
    "b = float(a)\n",
    "print(type(b))\n",
    "print(b)"
   ]
  },
  {
   "cell_type": "code",
   "execution_count": 56,
   "id": "ca93b9d3",
   "metadata": {},
   "outputs": [
    {
     "ename": "TypeError",
     "evalue": "can only concatenate str (not \"int\") to str",
     "output_type": "error",
     "traceback": [
      "\u001b[1;31m---------------------------------------------------------------------------\u001b[0m",
      "\u001b[1;31mTypeError\u001b[0m                                 Traceback (most recent call last)",
      "Cell \u001b[1;32mIn[56], line 4\u001b[0m\n\u001b[0;32m      1\u001b[0m \u001b[38;5;66;03m## [+] : using plus we can add text inside the ' ' with variables but variable should be string only:\u001b[39;00m\n\u001b[0;32m      3\u001b[0m age \u001b[38;5;241m=\u001b[39m \u001b[38;5;241m26\u001b[39m\n\u001b[1;32m----> 4\u001b[0m \u001b[38;5;28mprint\u001b[39m(\u001b[38;5;124;43m'\u001b[39;49m\u001b[38;5;124;43mMy age is\u001b[39;49m\u001b[38;5;124;43m'\u001b[39;49m\u001b[38;5;241;43m+\u001b[39;49m\u001b[43mage\u001b[49m)\n",
      "\u001b[1;31mTypeError\u001b[0m: can only concatenate str (not \"int\") to str"
     ]
    }
   ],
   "source": [
    "## [+] : using plus we can add text inside the ' ' with variables but variable should be string only:\n",
    "\n",
    "age = 26\n",
    "print('My age is'+age)"
   ]
  },
  {
   "cell_type": "code",
   "execution_count": 70,
   "id": "589b4246",
   "metadata": {},
   "outputs": [
    {
     "name": "stdout",
     "output_type": "stream",
     "text": [
      "My age is 26\n"
     ]
    }
   ],
   "source": [
    "\n",
    "age = 26\n",
    "print('My age is '+str(age))"
   ]
  },
  {
   "cell_type": "code",
   "execution_count": 78,
   "id": "cbd40d71",
   "metadata": {},
   "outputs": [
    {
     "name": "stdout",
     "output_type": "stream",
     "text": [
      "I got 100.2 rs salary and learning a course in Udemy which charge 20 rs per day\n"
     ]
    }
   ],
   "source": [
    "salary = 100.2\n",
    "spend = 20\n",
    "course = 'Udemy'\n",
    "\n",
    "# output : I got 100.2 rs salary and learning a course in udemy which charges 20 rs per day\n",
    "\n",
    "print('I got '+str(salary)+' '+'rs'+' '+'salary'+' '+'and learning a course in '+course+' '+'which charge '+str(spend)+' '+'rs per day')\n"
   ]
  },
  {
   "cell_type": "code",
   "execution_count": 10,
   "id": "e5871cfb",
   "metadata": {},
   "outputs": [
    {
     "name": "stdout",
     "output_type": "stream",
     "text": [
      "I spend 50 rupees of my salary amount 100 on the course DS\n"
     ]
    }
   ],
   "source": [
    "salary=100\n",
    "spend = 50\n",
    "course = \"DS\"\n",
    "print(\"I spend \"+str(50)+\" rupees\"+ \" of my salary \"+ \"amount \"+str(salary)+ \" on the course \"+ course)"
   ]
  },
  {
   "cell_type": "code",
   "execution_count": 80,
   "id": "37528304",
   "metadata": {},
   "outputs": [
    {
     "name": "stdout",
     "output_type": "stream",
     "text": [
      "My age is 26\n"
     ]
    }
   ],
   "source": [
    "# % [Not to use bacause consumes lot of space in memory not good in real time]\n",
    "\n",
    "# int = %d \n",
    "# float = %f\n",
    "# string = %s\n",
    "\n",
    "age = 26\n",
    "\n",
    "print('My age is %d'%(age))"
   ]
  },
  {
   "cell_type": "markdown",
   "id": "e9d19f5b",
   "metadata": {},
   "source": [
    "# my code"
   ]
  },
  {
   "cell_type": "code",
   "execution_count": 81,
   "id": "899dfc3c",
   "metadata": {},
   "outputs": [
    {
     "name": "stdout",
     "output_type": "stream",
     "text": [
      "I am learning a Datascience with 10 rs and spend 34.200000 rs\n"
     ]
    }
   ],
   "source": [
    "course = 'Datascience'\n",
    "cost = 10\n",
    "spend = 34.2\n",
    "\n",
    "# I am lerning a datascience with 10 rs and spend 34.2 rs\n",
    "\n",
    "print('I am learning a %s with %d rs and spend %f rs'%(course,cost,spend))"
   ]
  },
  {
   "cell_type": "code",
   "execution_count": 11,
   "id": "bf1ac70f",
   "metadata": {},
   "outputs": [
    {
     "name": "stdout",
     "output_type": "stream",
     "text": [
      "I am leaning a DS course with 10 rupees and spend 50.000000 rupees on it\n"
     ]
    }
   ],
   "source": [
    "course = \"DS\"\n",
    "cost= 10\n",
    "spend= 50.0\n",
    "# I am leaning a DS course with 10 rupees and spend 50 rupees on it\n",
    "\n",
    "print('I am leaning a %s course with %d rupees and spend %f rupees on it'%(course, cost, spend))"
   ]
  },
  {
   "cell_type": "code",
   "execution_count": 82,
   "id": "9c7e2f29",
   "metadata": {},
   "outputs": [
    {
     "ename": "TypeError",
     "evalue": "must be real number, not str",
     "output_type": "error",
     "traceback": [
      "\u001b[1;31m---------------------------------------------------------------------------\u001b[0m",
      "\u001b[1;31mTypeError\u001b[0m                                 Traceback (most recent call last)",
      "Cell \u001b[1;32mIn[82], line 7\u001b[0m\n\u001b[0;32m      3\u001b[0m spend \u001b[38;5;241m=\u001b[39m \u001b[38;5;241m34.2\u001b[39m\n\u001b[0;32m      5\u001b[0m \u001b[38;5;66;03m# I am lerning a datascience with 10 rs and spend 34.2 rs\u001b[39;00m\n\u001b[1;32m----> 7\u001b[0m \u001b[38;5;28mprint\u001b[39m(\u001b[38;5;124;43m'\u001b[39;49m\u001b[38;5;124;43mI am learning a \u001b[39;49m\u001b[38;5;132;43;01m%s\u001b[39;49;00m\u001b[38;5;124;43m with \u001b[39;49m\u001b[38;5;132;43;01m%d\u001b[39;49;00m\u001b[38;5;124;43m rs and spend \u001b[39;49m\u001b[38;5;132;43;01m%f\u001b[39;49;00m\u001b[38;5;124;43m rs\u001b[39;49m\u001b[38;5;124;43m'\u001b[39;49m\u001b[38;5;241;43m%\u001b[39;49m\u001b[43m(\u001b[49m\u001b[43mspend\u001b[49m\u001b[43m,\u001b[49m\u001b[43mcost\u001b[49m\u001b[43m,\u001b[49m\u001b[43mcourse\u001b[49m\u001b[43m)\u001b[49m)\n",
      "\u001b[1;31mTypeError\u001b[0m: must be real number, not str"
     ]
    }
   ],
   "source": [
    "course = 'Datascience'\n",
    "cost = 10\n",
    "spend = 34.2\n",
    "\n",
    "# I am lerning a datascience with 10 rs and spend 34.2 rs\n",
    "\n",
    "print('I am learning a %s with %d rs and spend %f rs'%(spend,cost,course))"
   ]
  },
  {
   "cell_type": "code",
   "execution_count": 84,
   "id": "beff05e4",
   "metadata": {},
   "outputs": [
    {
     "name": "stdout",
     "output_type": "stream",
     "text": [
      "My age is 26\n"
     ]
    }
   ],
   "source": [
    "# Important [using f''--> formating Techniques]\n",
    "\n",
    "age = 26\n",
    "\n",
    "print(f'My age is {age}')"
   ]
  },
  {
   "cell_type": "code",
   "execution_count": 85,
   "id": "8efa6075",
   "metadata": {},
   "outputs": [
    {
     "name": "stdout",
     "output_type": "stream",
     "text": [
      "I am learning a Datascience with 10 rs and spend 34.2 rs\n"
     ]
    }
   ],
   "source": [
    "course = 'Datascience'\n",
    "cost = 10\n",
    "spend = 34.2\n",
    "\n",
    "# I am lerning a datascience with 10 rs and spend 34.2 rs\n",
    "\n",
    "print(f'I am learning a {course} with {cost} rs and spend {spend} rs')"
   ]
  },
  {
   "cell_type": "code",
   "execution_count": 86,
   "id": "41207141",
   "metadata": {},
   "outputs": [
    {
     "name": "stdout",
     "output_type": "stream",
     "text": [
      "My age is 26\n"
     ]
    }
   ],
   "source": [
    "# .format Technique\n",
    "\n",
    "age = 26\n",
    "print('My age is {}'.format(age))"
   ]
  },
  {
   "cell_type": "code",
   "execution_count": 88,
   "id": "a48ecae2",
   "metadata": {},
   "outputs": [
    {
     "name": "stdout",
     "output_type": "stream",
     "text": [
      "I am learning a Datascience with 10 rs and spend 34.2 rs\n"
     ]
    }
   ],
   "source": [
    "course = 'Datascience'\n",
    "cost = 10\n",
    "spend = 34.2\n",
    "\n",
    "# I am lerning a datascience with 10 rs and spend 34.2 rs\n",
    "\n",
    "print('I am learning a {} with {} rs and spend {} rs'.format(course,cost,spend))"
   ]
  },
  {
   "cell_type": "code",
   "execution_count": 13,
   "id": "11991f8f",
   "metadata": {},
   "outputs": [
    {
     "name": "stdout",
     "output_type": "stream",
     "text": [
      "I am learning a 34.2 with 10 rs and spend Datascience rs\n"
     ]
    }
   ],
   "source": [
    "course = 'Datascience'\n",
    "cost = 10\n",
    "spend = 34.2\n",
    "\n",
    "# I am lerning a datascience with 10 rs and spend 34.2 rs\n",
    "\n",
    "print('I am learning a {} with {} rs and spend {} rs'.format(spend,cost,course))"
   ]
  },
  {
   "cell_type": "code",
   "execution_count": 16,
   "id": "1216e414",
   "metadata": {},
   "outputs": [
    {
     "name": "stdout",
     "output_type": "stream",
     "text": [
      "I am learning a Datascience with 10 rs and spend 34.2 rs\n",
      "I am learning a Datascience with 10 rs and spend 34.2 rs\n"
     ]
    }
   ],
   "source": [
    "\n",
    "print(f'I am learning a {course} with {cost} rs and spend {spend} rs')\n",
    "print(\"I am learning a {} with {} rs and spend {} rs\".format(course, cost, spend))"
   ]
  },
  {
   "cell_type": "markdown",
   "id": "ff6ebbf6",
   "metadata": {},
   "source": [
    "### operators"
   ]
  },
  {
   "cell_type": "code",
   "execution_count": 90,
   "id": "6e763a14",
   "metadata": {},
   "outputs": [],
   "source": [
    "#-> +,-,*,/,//,%,pow,=,==,!=,<,>,<=,>="
   ]
  },
  {
   "cell_type": "code",
   "execution_count": 91,
   "id": "5f830645",
   "metadata": {},
   "outputs": [
    {
     "data": {
      "text/plain": [
       "30"
      ]
     },
     "execution_count": 91,
     "metadata": {},
     "output_type": "execute_result"
    }
   ],
   "source": [
    "10 + 20 "
   ]
  },
  {
   "cell_type": "code",
   "execution_count": 92,
   "id": "c1e64d20",
   "metadata": {},
   "outputs": [
    {
     "name": "stdout",
     "output_type": "stream",
     "text": [
      "30\n"
     ]
    }
   ],
   "source": [
    "a = 10\n",
    "b = 20 \n",
    "print(a + b)"
   ]
  },
  {
   "cell_type": "code",
   "execution_count": 93,
   "id": "0d332573",
   "metadata": {},
   "outputs": [
    {
     "name": "stdout",
     "output_type": "stream",
     "text": [
      "-10\n"
     ]
    }
   ],
   "source": [
    "a = 10\n",
    "b = 20 \n",
    "print(a - b)"
   ]
  },
  {
   "cell_type": "code",
   "execution_count": 94,
   "id": "365d43fb",
   "metadata": {},
   "outputs": [
    {
     "name": "stdout",
     "output_type": "stream",
     "text": [
      "200\n"
     ]
    }
   ],
   "source": [
    "a = 10\n",
    "b = 20 \n",
    "print(a * b)  # * -> Multiplication\n"
   ]
  },
  {
   "cell_type": "code",
   "execution_count": 96,
   "id": "18252485",
   "metadata": {},
   "outputs": [
    {
     "name": "stdout",
     "output_type": "stream",
     "text": [
      "4.0\n"
     ]
    }
   ],
   "source": [
    "a = 20\n",
    "b = 5 \n",
    "print(a / b)  # /-> division"
   ]
  },
  {
   "cell_type": "code",
   "execution_count": 19,
   "id": "20009af4",
   "metadata": {},
   "outputs": [
    {
     "name": "stdout",
     "output_type": "stream",
     "text": [
      "13\n"
     ]
    }
   ],
   "source": [
    "# // floor division means removes decimals \n",
    "a = 202\n",
    "b = 15 \n",
    "print(a // b)"
   ]
  },
  {
   "cell_type": "code",
   "execution_count": 98,
   "id": "2cf64c5b",
   "metadata": {},
   "outputs": [
    {
     "name": "stdout",
     "output_type": "stream",
     "text": [
      "3\n"
     ]
    }
   ],
   "source": [
    "# % -> function takes reminder as output \n",
    "\n",
    "a = 23\n",
    "b = 5\n",
    "\n",
    "print(a % b)"
   ]
  },
  {
   "cell_type": "code",
   "execution_count": 27,
   "id": "6c6a12e8",
   "metadata": {},
   "outputs": [
    {
     "name": "stdout",
     "output_type": "stream",
     "text": [
      "9\n"
     ]
    }
   ],
   "source": [
    "# pow = means power function \n",
    "\n",
    "#pow(2,3)\n",
    "a=2\n",
    "b=3\n",
    "print(pow(3,2))"
   ]
  },
  {
   "cell_type": "code",
   "execution_count": 26,
   "id": "23fbab09",
   "metadata": {},
   "outputs": [
    {
     "data": {
      "text/plain": [
       "32"
      ]
     },
     "execution_count": 26,
     "metadata": {},
     "output_type": "execute_result"
    }
   ],
   "source": [
    "pow(2,5)"
   ]
  },
  {
   "cell_type": "code",
   "execution_count": null,
   "id": "81a441bb",
   "metadata": {},
   "outputs": [],
   "source": [
    "pow()  # shift + tab  = intelligence, tab -> for complete understanding about method"
   ]
  },
  {
   "cell_type": "code",
   "execution_count": 28,
   "id": "89bce555",
   "metadata": {},
   "outputs": [
    {
     "data": {
      "text/plain": [
       "4"
      ]
     },
     "execution_count": 28,
     "metadata": {},
     "output_type": "execute_result"
    }
   ],
   "source": [
    "pow(2,2,5)"
   ]
  },
  {
   "cell_type": "code",
   "execution_count": null,
   "id": "d9547506",
   "metadata": {},
   "outputs": [],
   "source": [
    "# =  : right side value will be given to left side:\n",
    "a = 10\n",
    "b = a"
   ]
  },
  {
   "cell_type": "code",
   "execution_count": 106,
   "id": "07f229ee",
   "metadata": {},
   "outputs": [
    {
     "data": {
      "text/plain": [
       "True"
      ]
     },
     "execution_count": 106,
     "metadata": {},
     "output_type": "execute_result"
    }
   ],
   "source": [
    "# == : will return boolean outcomes \n",
    "\n",
    "10 == 10"
   ]
  },
  {
   "cell_type": "code",
   "execution_count": 107,
   "id": "745527be",
   "metadata": {},
   "outputs": [
    {
     "data": {
      "text/plain": [
       "False"
      ]
     },
     "execution_count": 107,
     "metadata": {},
     "output_type": "execute_result"
    }
   ],
   "source": [
    "8 == 10"
   ]
  },
  {
   "cell_type": "code",
   "execution_count": 108,
   "id": "3543961f",
   "metadata": {},
   "outputs": [
    {
     "data": {
      "text/plain": [
       "True"
      ]
     },
     "execution_count": 108,
     "metadata": {},
     "output_type": "execute_result"
    }
   ],
   "source": [
    "# != : returns boolean value \n",
    "\n",
    "10 != 5"
   ]
  },
  {
   "cell_type": "code",
   "execution_count": 109,
   "id": "fdd17627",
   "metadata": {},
   "outputs": [
    {
     "data": {
      "text/plain": [
       "False"
      ]
     },
     "execution_count": 109,
     "metadata": {},
     "output_type": "execute_result"
    }
   ],
   "source": [
    "10 > 11"
   ]
  },
  {
   "cell_type": "code",
   "execution_count": 110,
   "id": "fb17deed",
   "metadata": {},
   "outputs": [
    {
     "data": {
      "text/plain": [
       "True"
      ]
     },
     "execution_count": 110,
     "metadata": {},
     "output_type": "execute_result"
    }
   ],
   "source": [
    "10 < 11"
   ]
  },
  {
   "cell_type": "code",
   "execution_count": 112,
   "id": "27f800b8",
   "metadata": {},
   "outputs": [
    {
     "data": {
      "text/plain": [
       "True"
      ]
     },
     "execution_count": 112,
     "metadata": {},
     "output_type": "execute_result"
    }
   ],
   "source": [
    "# >= and <=\n",
    "\n",
    "10 >= 10"
   ]
  },
  {
   "cell_type": "code",
   "execution_count": 113,
   "id": "6fd86eae",
   "metadata": {},
   "outputs": [
    {
     "data": {
      "text/plain": [
       "True"
      ]
     },
     "execution_count": 113,
     "metadata": {},
     "output_type": "execute_result"
    }
   ],
   "source": [
    "11 <= 12"
   ]
  },
  {
   "cell_type": "code",
   "execution_count": 114,
   "id": "bfaed130",
   "metadata": {},
   "outputs": [
    {
     "data": {
      "text/plain": [
       "False"
      ]
     },
     "execution_count": 114,
     "metadata": {},
     "output_type": "execute_result"
    }
   ],
   "source": [
    "11 >=12 "
   ]
  },
  {
   "cell_type": "code",
   "execution_count": 116,
   "id": "2c52090e",
   "metadata": {},
   "outputs": [
    {
     "data": {
      "text/plain": [
       "4"
      ]
     },
     "execution_count": 116,
     "metadata": {},
     "output_type": "execute_result"
    }
   ],
   "source": [
    "pow(2,2,5)"
   ]
  },
  {
   "cell_type": "code",
   "execution_count": 118,
   "id": "116c2fd9",
   "metadata": {},
   "outputs": [
    {
     "data": {
      "text/plain": [
       "-170"
      ]
     },
     "execution_count": 118,
     "metadata": {},
     "output_type": "execute_result"
    }
   ],
   "source": [
    "10 + 20 - 100 * 2"
   ]
  },
  {
   "cell_type": "code",
   "execution_count": 119,
   "id": "d05535d0",
   "metadata": {},
   "outputs": [],
   "source": [
    "# open jupter notebook\n",
    "# d:\n",
    "# jupyter notebook "
   ]
  },
  {
   "cell_type": "code",
   "execution_count": null,
   "id": "a430c6dc",
   "metadata": {},
   "outputs": [],
   "source": []
  }
 ],
 "metadata": {
  "kernelspec": {
   "display_name": "Python 3 (ipykernel)",
   "language": "python",
   "name": "python3"
  },
  "language_info": {
   "codemirror_mode": {
    "name": "ipython",
    "version": 3
   },
   "file_extension": ".py",
   "mimetype": "text/x-python",
   "name": "python",
   "nbconvert_exporter": "python",
   "pygments_lexer": "ipython3",
   "version": "3.9.7"
  }
 },
 "nbformat": 4,
 "nbformat_minor": 5
}
